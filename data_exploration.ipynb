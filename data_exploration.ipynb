{
  "cells": [
    {
      "cell_type": "markdown",
      "metadata": {},
      "source": [
        "# 1. Imports"
      ]
    },
    {
      "cell_type": "code",
      "execution_count": 1,
      "metadata": {
        "id": "Z6pkBJwvD0jf"
      },
      "outputs": [],
      "source": [
        "#pip install -U ydata-profiling"
      ]
    },
    {
      "cell_type": "code",
      "execution_count": 2,
      "metadata": {
        "id": "IgmdJ_YRArfX"
      },
      "outputs": [],
      "source": [
        "#from ydata_profiling import ProfileReport\n",
        "#from matplotlib import pyplot as plt\n",
        "#import seaborn as sns\n",
        "import pandas as pd\n",
        "import re\n",
        "import json\n",
        "import csv"
      ]
    },
    {
      "cell_type": "markdown",
      "metadata": {
        "id": "643b3fUNBiFi"
      },
      "source": [
        "# 1. Read in Data"
      ]
    },
    {
      "cell_type": "code",
      "execution_count": 11,
      "metadata": {
        "id": "JqYwZsDDBH3_"
      },
      "outputs": [],
      "source": [
        "file_path = \"data/Europa/europa_tripfile.feather\""
      ]
    },
    {
      "cell_type": "code",
      "execution_count": 12,
      "metadata": {
        "id": "yRlp6ywVgGd5"
      },
      "outputs": [],
      "source": [
        "# Beispieldaten\n",
        "#data = pd.read_csv(file_path, delimiter=';', quotechar='\"', engine='python')"
      ]
    },
    {
      "cell_type": "code",
      "execution_count": 13,
      "metadata": {
        "id": "VZhAlZ-ig8bf"
      },
      "outputs": [],
      "source": [
        "# Nicht für Beispieldaten, nur für csv\n",
        "#data = pd.read_csv(file_path, delimiter=',', quotechar='\"', engine='python', on_bad_lines='skip')"
      ]
    },
    {
      "cell_type": "code",
      "execution_count": 38,
      "metadata": {
        "colab": {
          "base_uri": "https://localhost:8080/",
          "height": 424
        },
        "id": "9ZuP9JenhVOs",
        "outputId": "94c303e9-8a77-47bb-e0e6-8f7631b5c05c"
      },
      "outputs": [],
      "source": [
        "data_europa = pd.read_feather(file_path)"
      ]
    },
    {
      "cell_type": "markdown",
      "metadata": {
        "id": "qTvWysW6DMqW"
      },
      "source": [
        "# 2. Understanding the Data"
      ]
    },
    {
      "cell_type": "code",
      "execution_count": null,
      "metadata": {
        "id": "hf_xZotdD8js"
      },
      "outputs": [],
      "source": [
        "profile = ProfileReport(data_europa, title=\"Profiling Report\")"
      ]
    },
    {
      "cell_type": "code",
      "execution_count": null,
      "metadata": {
        "id": "0HkLwbYAEAw7"
      },
      "outputs": [],
      "source": [
        "profile"
      ]
    },
    {
      "cell_type": "code",
      "execution_count": null,
      "metadata": {
        "cellView": "form",
        "colab": {
          "base_uri": "https://localhost:8080/",
          "height": 548
        },
        "id": "GT55nv8cBxzu",
        "outputId": "bd01712b-9280-4c69-c942-e1a52d5206c4"
      },
      "outputs": [],
      "source": [
        "# @title creation_time vs count()\n",
        "\n",
        "def _plot_series(series, series_name, series_index=0):\n",
        "  palette = list(sns.palettes.mpl_palette('Dark2'))\n",
        "  counted = (series['creation_time']\n",
        "                .value_counts()\n",
        "              .reset_index(name='counts')\n",
        "              .rename({'index': 'creation_time'}, axis=1)\n",
        "              .sort_values('creation_time', ascending=True))\n",
        "  xs = counted['creation_time']\n",
        "  ys = counted['counts']\n",
        "  plt.plot(xs, ys, label=series_name, color=palette[series_index % len(palette)])\n",
        "\n",
        "fig, ax = plt.subplots(figsize=(10, 5.2), layout='constrained')\n",
        "df_sorted = data.sort_values('creation_time', ascending=True)\n",
        "for i, (series_name, series) in enumerate(df_sorted.groupby('user_name')):\n",
        "  _plot_series(series, series_name, i)\n",
        "  fig.legend(title='user_name', bbox_to_anchor=(1, 1), loc='upper left')\n",
        "sns.despine(fig=fig, ax=ax)\n",
        "plt.xlabel('creation_time')\n",
        "_ = plt.ylabel('count()')"
      ]
    },
    {
      "cell_type": "code",
      "execution_count": 39,
      "metadata": {
        "colab": {
          "base_uri": "https://localhost:8080/"
        },
        "id": "K4BTbcYXBcgR",
        "outputId": "778bd322-888f-47f8-9060-7e6e08e51f85"
      },
      "outputs": [
        {
          "data": {
            "text/plain": [
              "array(['AssignLoadplanAction', 'AssignLCCAction', 'ASMMsgProcessor',\n",
              "       'AutoLoadBulkAction', 'AutoLoadULDAction', 'CargoFinalActionTDM',\n",
              "       'AssignUnassignViewAction', 'AutomaticNotificationAction',\n",
              "       'CargoFinalAction', 'CalculateWeightAndTrimAction',\n",
              "       'CreateLoadingInstructionAction', 'ChatConfirmMessageAction',\n",
              "       'ChatSendMessageAction', 'CreateAndSendFuelOrderAction',\n",
              "       'CreateBaggageLoadItemsAction', 'CreateLoadsheetAction',\n",
              "       'ChangeFlightLegStateAction', 'CloseLegAction',\n",
              "       'CreatePostDepartureMessagesAction',\n",
              "       'CreateAndSendUldOrdMessageAction', 'ClearFlightsAction',\n",
              "       'CreateZFWMessageAction', 'CrewMsgProcessor',\n",
              "       'PAXBOOKINGINMsgProcessor', 'FlightPlanFiguresInMsgProcessor',\n",
              "       'EstimateStorePaxDataAction', 'RampFinalAction',\n",
              "       'InternalCreateLoadingInstructionAct',\n",
              "       'InternalCreateLoadsheetAction', 'ResetLoadingListRecordsAction',\n",
              "       'GetCabinConfigurationsAction', 'ReopenLegAction',\n",
              "       'FuelDataInitializer', 'StorePaxDataGuiAction',\n",
              "       'StoreRegistrationAndConfigurationAc', 'StoreAircraftDataAction',\n",
              "       'SpecialPaxWeightAction', 'SendFuelOrderAction',\n",
              "       'SelectFuelOrderAction', 'SendPostDepartureMessagesAction',\n",
              "       'TransferCargoAction', 'TdmCreateLoadingInstructionAction', None,\n",
              "       'SendLoadsheetAction', 'SendLoadingInstructionAction',\n",
              "       'UpdateCrewDataAction', 'UpdateCargoMailEstimatesAction',\n",
              "       'UpdateEstimatesAction', 'UpdateLoadTableAction',\n",
              "       'UpdateFlightAction', 'UpdateFuelDataAction',\n",
              "       'UpdateHistoricalFlightLegInfoAction', 'UpdateLastEzfwSentAction',\n",
              "       'UpdateSupplementaryInfoAction', 'CheckinMsgProcessor',\n",
              "       'StorePaxDataAction', 'TransferCheckinDataAction'], dtype=object)"
            ]
          },
          "execution_count": 39,
          "metadata": {},
          "output_type": "execute_result"
        }
      ],
      "source": [
        "data_europa[\"action_name\"].unique()"
      ]
    },
    {
      "cell_type": "markdown",
      "metadata": {
        "id": "7AeQiVtABkbm"
      },
      "source": [
        "# 3. Process the Data"
      ]
    },
    {
      "cell_type": "code",
      "execution_count": null,
      "metadata": {
        "id": "CrtInf3NLgm3"
      },
      "outputs": [],
      "source": [
        "# List of all keys, including weights, indices, and specific aircraft parameters\n",
        "weight_keys = [\n",
        "    \"START_WI weight\",\n",
        "    \"START_WI index\",\n",
        "    \"DO_WI weight\",\n",
        "    \"DO_WI index\",\n",
        "    \"PAX_WI weight\",\n",
        "    \"PAX_WI index\",\n",
        "    \"TOTAL_DEADLOAD_WI weight\",\n",
        "    \"TOTAL_DEADLOAD_WI index\",\n",
        "    \"TOTAL_LOAD_WI\",\n",
        "    \"TOTAL_TRAFFIC_LOAD\",\n",
        "    \"FUEL_INDEX\",\n",
        "    \"AZFW\",\n",
        "    \"ATOW\",\n",
        "    \"ALAW\",\n",
        "    \"FUEL_INDEX\",\n",
        "    \"AFT_LIMIT_ZFW\",\n",
        "    \"Start Weight\",\n",
        "    \"Start Index\",\n",
        "    \"Total Weight\",\n",
        "    \"Index\",\n",
        "    \"ATXW\",\n",
        "    \"FWD_LIMIT_ZFW\"\n",
        "]\n",
        "\n",
        "# Create the regex pattern dynamically from the list of keys\n",
        "pattern = rf'({\"|\".join(map(re.escape, weight_keys))})\\s*:\\s*([0-9.]+)'\n",
        "\n",
        "# Define a function to extract the relevant details\n",
        "def extract_weight_details(data_string):\n",
        "    extracted_data = re.findall(pattern, data_string)\n",
        "    return {key.strip(): float(value) for key, value in extracted_data}\n",
        "\n",
        "# Apply the function to the 'entry_details' column\n",
        "data['extracted_data'] = data['entry_details'].astype(str).apply(extract_weight_details)\n",
        "\n",
        "# Convert extracted dictionary into separate columns\n",
        "for key in weight_keys:\n",
        "    data[key] = data['extracted_data'].apply(lambda x: x.get(key, None))"
      ]
    },
    {
      "cell_type": "code",
      "execution_count": null,
      "metadata": {
        "id": "srBSfGJ3OUZ1"
      },
      "outputs": [],
      "source": [
        "data.to_csv(\"_tripfile_extracted_weights.csv\")"
      ]
    }
  ],
  "metadata": {
    "colab": {
      "provenance": []
    },
    "kernelspec": {
      "display_name": "Python 3",
      "name": "python3"
    },
    "language_info": {
      "codemirror_mode": {
        "name": "ipython",
        "version": 3
      },
      "file_extension": ".py",
      "mimetype": "text/x-python",
      "name": "python",
      "nbconvert_exporter": "python",
      "pygments_lexer": "ipython3",
      "version": "3.10.8"
    }
  },
  "nbformat": 4,
  "nbformat_minor": 0
}

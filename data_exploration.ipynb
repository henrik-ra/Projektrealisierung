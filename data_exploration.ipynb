{
  "cells": [
    {
      "cell_type": "markdown",
      "metadata": {},
      "source": [
        "# 1. Imports"
      ]
    },
    {
      "cell_type": "code",
      "execution_count": null,
      "metadata": {
        "id": "Z6pkBJwvD0jf"
      },
      "outputs": [],
      "source": [
        "#pip install -U ydata-profiling\n",
        "# !pip install ipywidgets"
      ]
    },
    {
      "cell_type": "code",
      "execution_count": null,
      "metadata": {
        "id": "IgmdJ_YRArfX"
      },
      "outputs": [],
      "source": [
        "from ydata_profiling import ProfileReport\n",
        "#from matplotlib import pyplot as plt\n",
        "#import seaborn as sns\n",
        "import pandas as pd\n",
        "import re\n",
        "import json\n",
        "import csv"
      ]
    },
    {
      "cell_type": "markdown",
      "metadata": {
        "id": "643b3fUNBiFi"
      },
      "source": [
        "# 1. Read in Data"
      ]
    },
    {
      "cell_type": "code",
      "execution_count": 6,
      "metadata": {
        "id": "JqYwZsDDBH3_"
      },
      "outputs": [],
      "source": [
        "file_path = \"data/Asien/asien_tripfile.feather\""
      ]
    },
    {
      "cell_type": "code",
      "execution_count": 12,
      "metadata": {
        "id": "yRlp6ywVgGd5"
      },
      "outputs": [],
      "source": [
        "# Beispieldaten\n",
        "#data = pd.read_csv(file_path, delimiter=';', quotechar='\"', engine='python')"
      ]
    },
    {
      "cell_type": "code",
      "execution_count": 13,
      "metadata": {
        "id": "VZhAlZ-ig8bf"
      },
      "outputs": [],
      "source": [
        "# Nicht für Beispieldaten, nur für csv\n",
        "#data = pd.read_csv(file_path, delimiter=',', quotechar='\"', engine='python', on_bad_lines='skip')"
      ]
    },
    {
      "cell_type": "code",
      "execution_count": 8,
      "metadata": {
        "colab": {
          "base_uri": "https://localhost:8080/",
          "height": 424
        },
        "id": "9ZuP9JenhVOs",
        "outputId": "94c303e9-8a77-47bb-e0e6-8f7631b5c05c"
      },
      "outputs": [],
      "source": [
        "data_asien = pd.read_feather(file_path)"
      ]
    },
    {
      "cell_type": "code",
      "execution_count": 13,
      "metadata": {},
      "outputs": [
        {
          "data": {
            "text/html": [
              "<div>\n",
              "<style scoped>\n",
              "    .dataframe tbody tr th:only-of-type {\n",
              "        vertical-align: middle;\n",
              "    }\n",
              "\n",
              "    .dataframe tbody tr th {\n",
              "        vertical-align: top;\n",
              "    }\n",
              "\n",
              "    .dataframe thead th {\n",
              "        text-align: right;\n",
              "    }\n",
              "</style>\n",
              "<table border=\"1\" class=\"dataframe\">\n",
              "  <thead>\n",
              "    <tr style=\"text-align: right;\">\n",
              "      <th></th>\n",
              "      <th>id</th>\n",
              "      <th>creation_time</th>\n",
              "      <th>airline_code</th>\n",
              "      <th>flight_number</th>\n",
              "      <th>flight_date</th>\n",
              "      <th>departure_airport</th>\n",
              "      <th>user_name</th>\n",
              "      <th>action_name</th>\n",
              "      <th>header_line</th>\n",
              "      <th>entry_details</th>\n",
              "    </tr>\n",
              "  </thead>\n",
              "  <tbody>\n",
              "    <tr>\n",
              "      <th>0</th>\n",
              "      <td>33902381</td>\n",
              "      <td>2024-05-01 09:14:42</td>\n",
              "      <td>AB</td>\n",
              "      <td>2359.0</td>\n",
              "      <td>1.0</td>\n",
              "      <td>BLR</td>\n",
              "      <td>service-acco</td>\n",
              "      <td>ASMMsgProcessor</td>\n",
              "      <td>2024-05-01 09:14:42,420 INFO  [3f326d134d9de45...</td>\n",
              "      <td>&lt;?xml version=\"1.0\" encoding=\"UTF-8\"?&gt;\\r\\n&lt;ns2...</td>\n",
              "    </tr>\n",
              "    <tr>\n",
              "      <th>1</th>\n",
              "      <td>33910427</td>\n",
              "      <td>2024-05-01 10:28:12</td>\n",
              "      <td>AB</td>\n",
              "      <td>2104.0</td>\n",
              "      <td>2.0</td>\n",
              "      <td>BLR</td>\n",
              "      <td>service-acco</td>\n",
              "      <td>ASMMsgProcessor</td>\n",
              "      <td>2024-05-01 10:28:12,745 INFO  [de24be75947007f...</td>\n",
              "      <td>&lt;?xml version=\"1.0\" encoding=\"UTF-8\"?&gt;\\r\\n&lt;ns2...</td>\n",
              "    </tr>\n",
              "    <tr>\n",
              "      <th>2</th>\n",
              "      <td>33910380</td>\n",
              "      <td>2024-05-01 10:28:11</td>\n",
              "      <td>AB</td>\n",
              "      <td>2109.0</td>\n",
              "      <td>2.0</td>\n",
              "      <td>BLR</td>\n",
              "      <td>service-acco</td>\n",
              "      <td>ASMMsgProcessor</td>\n",
              "      <td>2024-05-01 10:28:11,301 INFO  [df3a1cc7d574161...</td>\n",
              "      <td>&lt;?xml version=\"1.0\" encoding=\"UTF-8\"?&gt;\\r\\n&lt;ns2...</td>\n",
              "    </tr>\n",
              "    <tr>\n",
              "      <th>3</th>\n",
              "      <td>33909790</td>\n",
              "      <td>2024-05-01 10:28:12</td>\n",
              "      <td>AB</td>\n",
              "      <td>2110.0</td>\n",
              "      <td>2.0</td>\n",
              "      <td>BOM</td>\n",
              "      <td>service-acco</td>\n",
              "      <td>ASMMsgProcessor</td>\n",
              "      <td>2024-05-01 10:28:12,189 INFO  [9e66dfb1ffe9048...</td>\n",
              "      <td>&lt;?xml version=\"1.0\" encoding=\"UTF-8\"?&gt;\\r\\n&lt;ns2...</td>\n",
              "    </tr>\n",
              "    <tr>\n",
              "      <th>4</th>\n",
              "      <td>33902706</td>\n",
              "      <td>2024-05-01 09:14:41</td>\n",
              "      <td>AB</td>\n",
              "      <td>2127.0</td>\n",
              "      <td>2.0</td>\n",
              "      <td>BOM</td>\n",
              "      <td>service-acco</td>\n",
              "      <td>ASMMsgProcessor</td>\n",
              "      <td>2024-05-01 09:14:41,884 INFO  [829566f527b588f...</td>\n",
              "      <td>&lt;?xml version=\"1.0\" encoding=\"UTF-8\"?&gt;\\r\\n&lt;ns2...</td>\n",
              "    </tr>\n",
              "    <tr>\n",
              "      <th>...</th>\n",
              "      <td>...</td>\n",
              "      <td>...</td>\n",
              "      <td>...</td>\n",
              "      <td>...</td>\n",
              "      <td>...</td>\n",
              "      <td>...</td>\n",
              "      <td>...</td>\n",
              "      <td>...</td>\n",
              "      <td>...</td>\n",
              "      <td>...</td>\n",
              "    </tr>\n",
              "    <tr>\n",
              "      <th>710055</th>\n",
              "      <td>33875192</td>\n",
              "      <td>2024-05-01 04:07:01</td>\n",
              "      <td>AB</td>\n",
              "      <td>2372.0</td>\n",
              "      <td>30.0</td>\n",
              "      <td>GAU</td>\n",
              "      <td>service-acco</td>\n",
              "      <td>StorePaxDataAction</td>\n",
              "      <td>2024-05-01 04:07:01,675 INFO  [90c6642a105b86f...</td>\n",
              "      <td>TOTAL Pax: 131    Y: 131  Jump: 0    StandBy: ...</td>\n",
              "    </tr>\n",
              "    <tr>\n",
              "      <th>710056</th>\n",
              "      <td>33875261</td>\n",
              "      <td>2024-05-01 04:08:01</td>\n",
              "      <td>AB</td>\n",
              "      <td>2372.0</td>\n",
              "      <td>30.0</td>\n",
              "      <td>GAU</td>\n",
              "      <td>service-acco</td>\n",
              "      <td>StorePaxDataAction</td>\n",
              "      <td>2024-05-01 04:08:01,279 INFO  [76f51797d6d0b42...</td>\n",
              "      <td>com.onesystem.lc2.paxactuals.dto.PaxDataDTO [ ...</td>\n",
              "    </tr>\n",
              "    <tr>\n",
              "      <th>710057</th>\n",
              "      <td>33875264</td>\n",
              "      <td>2024-05-01 04:08:01</td>\n",
              "      <td>AB</td>\n",
              "      <td>2372.0</td>\n",
              "      <td>30.0</td>\n",
              "      <td>GAU</td>\n",
              "      <td>service-acco</td>\n",
              "      <td>StorePaxDataAction</td>\n",
              "      <td>2024-05-01 04:08:01,281 INFO  [76f51797d6d0b42...</td>\n",
              "      <td>TOTAL Pax: 131    Y: 131  Jump: 0    StandBy: ...</td>\n",
              "    </tr>\n",
              "    <tr>\n",
              "      <th>710058</th>\n",
              "      <td>33875306</td>\n",
              "      <td>2024-05-01 04:09:01</td>\n",
              "      <td>AB</td>\n",
              "      <td>2372.0</td>\n",
              "      <td>30.0</td>\n",
              "      <td>GAU</td>\n",
              "      <td>service-acco</td>\n",
              "      <td>StorePaxDataAction</td>\n",
              "      <td>2024-05-01 04:09:01,465 INFO  [ef79e34fa812d85...</td>\n",
              "      <td>com.onesystem.lc2.paxactuals.dto.PaxDataDTO [ ...</td>\n",
              "    </tr>\n",
              "    <tr>\n",
              "      <th>710059</th>\n",
              "      <td>33875309</td>\n",
              "      <td>2024-05-01 04:09:01</td>\n",
              "      <td>AB</td>\n",
              "      <td>2372.0</td>\n",
              "      <td>30.0</td>\n",
              "      <td>GAU</td>\n",
              "      <td>service-acco</td>\n",
              "      <td>StorePaxDataAction</td>\n",
              "      <td>2024-05-01 04:09:01,468 INFO  [ef79e34fa812d85...</td>\n",
              "      <td>TOTAL Pax: 131    Y: 131  Jump: 0    StandBy: ...</td>\n",
              "    </tr>\n",
              "  </tbody>\n",
              "</table>\n",
              "<p>710060 rows × 10 columns</p>\n",
              "</div>"
            ],
            "text/plain": [
              "              id        creation_time airline_code  flight_number  \\\n",
              "0       33902381  2024-05-01 09:14:42           AB         2359.0   \n",
              "1       33910427  2024-05-01 10:28:12           AB         2104.0   \n",
              "2       33910380  2024-05-01 10:28:11           AB         2109.0   \n",
              "3       33909790  2024-05-01 10:28:12           AB         2110.0   \n",
              "4       33902706  2024-05-01 09:14:41           AB         2127.0   \n",
              "...          ...                  ...          ...            ...   \n",
              "710055  33875192  2024-05-01 04:07:01           AB         2372.0   \n",
              "710056  33875261  2024-05-01 04:08:01           AB         2372.0   \n",
              "710057  33875264  2024-05-01 04:08:01           AB         2372.0   \n",
              "710058  33875306  2024-05-01 04:09:01           AB         2372.0   \n",
              "710059  33875309  2024-05-01 04:09:01           AB         2372.0   \n",
              "\n",
              "        flight_date departure_airport     user_name         action_name  \\\n",
              "0               1.0               BLR  service-acco     ASMMsgProcessor   \n",
              "1               2.0               BLR  service-acco     ASMMsgProcessor   \n",
              "2               2.0               BLR  service-acco     ASMMsgProcessor   \n",
              "3               2.0               BOM  service-acco     ASMMsgProcessor   \n",
              "4               2.0               BOM  service-acco     ASMMsgProcessor   \n",
              "...             ...               ...           ...                 ...   \n",
              "710055         30.0               GAU  service-acco  StorePaxDataAction   \n",
              "710056         30.0               GAU  service-acco  StorePaxDataAction   \n",
              "710057         30.0               GAU  service-acco  StorePaxDataAction   \n",
              "710058         30.0               GAU  service-acco  StorePaxDataAction   \n",
              "710059         30.0               GAU  service-acco  StorePaxDataAction   \n",
              "\n",
              "                                              header_line  \\\n",
              "0       2024-05-01 09:14:42,420 INFO  [3f326d134d9de45...   \n",
              "1       2024-05-01 10:28:12,745 INFO  [de24be75947007f...   \n",
              "2       2024-05-01 10:28:11,301 INFO  [df3a1cc7d574161...   \n",
              "3       2024-05-01 10:28:12,189 INFO  [9e66dfb1ffe9048...   \n",
              "4       2024-05-01 09:14:41,884 INFO  [829566f527b588f...   \n",
              "...                                                   ...   \n",
              "710055  2024-05-01 04:07:01,675 INFO  [90c6642a105b86f...   \n",
              "710056  2024-05-01 04:08:01,279 INFO  [76f51797d6d0b42...   \n",
              "710057  2024-05-01 04:08:01,281 INFO  [76f51797d6d0b42...   \n",
              "710058  2024-05-01 04:09:01,465 INFO  [ef79e34fa812d85...   \n",
              "710059  2024-05-01 04:09:01,468 INFO  [ef79e34fa812d85...   \n",
              "\n",
              "                                            entry_details  \n",
              "0       <?xml version=\"1.0\" encoding=\"UTF-8\"?>\\r\\n<ns2...  \n",
              "1       <?xml version=\"1.0\" encoding=\"UTF-8\"?>\\r\\n<ns2...  \n",
              "2       <?xml version=\"1.0\" encoding=\"UTF-8\"?>\\r\\n<ns2...  \n",
              "3       <?xml version=\"1.0\" encoding=\"UTF-8\"?>\\r\\n<ns2...  \n",
              "4       <?xml version=\"1.0\" encoding=\"UTF-8\"?>\\r\\n<ns2...  \n",
              "...                                                   ...  \n",
              "710055  TOTAL Pax: 131    Y: 131  Jump: 0    StandBy: ...  \n",
              "710056  com.onesystem.lc2.paxactuals.dto.PaxDataDTO [ ...  \n",
              "710057  TOTAL Pax: 131    Y: 131  Jump: 0    StandBy: ...  \n",
              "710058  com.onesystem.lc2.paxactuals.dto.PaxDataDTO [ ...  \n",
              "710059  TOTAL Pax: 131    Y: 131  Jump: 0    StandBy: ...  \n",
              "\n",
              "[710060 rows x 10 columns]"
            ]
          },
          "execution_count": 13,
          "metadata": {},
          "output_type": "execute_result"
        }
      ],
      "source": [
        "data_asien"
      ]
    },
    {
      "cell_type": "markdown",
      "metadata": {
        "id": "qTvWysW6DMqW"
      },
      "source": [
        "# 2. Understanding the Data"
      ]
    },
    {
      "cell_type": "code",
      "execution_count": 14,
      "metadata": {
        "id": "hf_xZotdD8js"
      },
      "outputs": [],
      "source": [
        "profile = ProfileReport(data_asien, title=\"Profiling Report\")"
      ]
    },
    {
      "cell_type": "code",
      "execution_count": null,
      "metadata": {
        "id": "0HkLwbYAEAw7"
      },
      "outputs": [],
      "source": [
        "profile"
      ]
    },
    {
      "cell_type": "code",
      "execution_count": null,
      "metadata": {
        "cellView": "form",
        "colab": {
          "base_uri": "https://localhost:8080/",
          "height": 548
        },
        "id": "GT55nv8cBxzu",
        "outputId": "bd01712b-9280-4c69-c942-e1a52d5206c4"
      },
      "outputs": [],
      "source": [
        "# @title creation_time vs count()\n",
        "\n",
        "def _plot_series(series, series_name, series_index=0):\n",
        "  palette = list(sns.palettes.mpl_palette('Dark2'))\n",
        "  counted = (series['creation_time']\n",
        "                .value_counts()\n",
        "              .reset_index(name='counts')\n",
        "              .rename({'index': 'creation_time'}, axis=1)\n",
        "              .sort_values('creation_time', ascending=True))\n",
        "  xs = counted['creation_time']\n",
        "  ys = counted['counts']\n",
        "  plt.plot(xs, ys, label=series_name, color=palette[series_index % len(palette)])\n",
        "\n",
        "fig, ax = plt.subplots(figsize=(10, 5.2), layout='constrained')\n",
        "df_sorted = data.sort_values('creation_time', ascending=True)\n",
        "for i, (series_name, series) in enumerate(df_sorted.groupby('user_name')):\n",
        "  _plot_series(series, series_name, i)\n",
        "  fig.legend(title='user_name', bbox_to_anchor=(1, 1), loc='upper left')\n",
        "sns.despine(fig=fig, ax=ax)\n",
        "plt.xlabel('creation_time')\n",
        "_ = plt.ylabel('count()')"
      ]
    },
    {
      "cell_type": "code",
      "execution_count": 16,
      "metadata": {
        "colab": {
          "base_uri": "https://localhost:8080/"
        },
        "id": "K4BTbcYXBcgR",
        "outputId": "778bd322-888f-47f8-9060-7e6e08e51f85"
      },
      "outputs": [
        {
          "data": {
            "text/plain": [
              "array(['ASMMsgProcessor', 'AcceptTransitDataAction',\n",
              "       'AcceptTransitLoadAction', 'AcceptTransitNotocAction',\n",
              "       'AssignLCCAction', 'AssignLoadplanAction',\n",
              "       'AssignUnassignViewAction', 'CalculateWeightAndTrimAction',\n",
              "       'CargoFinalAction', 'ChangeFlightLegStateAction',\n",
              "       'CheckinMsgProcessor', 'CloseLegAction',\n",
              "       'CreatePostDepartureMessagesAction',\n",
              "       'CreateLoadingInstructionAction', 'CreateLoadsheetAction',\n",
              "       'CreateZFWMessageAction', 'CreateBaggageLoadItemsAction',\n",
              "       'ClearFlightsAction', 'InternalCreateLoadingInstructionAct',\n",
              "       'InternalCreateLoadsheetAction', 'FlightPlanFiguresInMsgProcessor',\n",
              "       'RampFinalAction', 'CrewMsgProcessor', 'PAXBOOKINGINMsgProcessor',\n",
              "       'EstimateStorePaxDataAction', 'ReopenLegAction',\n",
              "       'GetCabinConfigurationsAction', 'FuelDataInitializer',\n",
              "       'SendPostDepartureMessagesAction',\n",
              "       'SetActualBagWeightIndicatorAction', 'TransferCheckinDataAction',\n",
              "       'StoreAircraftDataAction', 'SpecialPaxWeightAction',\n",
              "       'StorePaxDataGuiAction', 'StoreCKIAverageWeightAction',\n",
              "       'ResetLoadingListRecordsAction',\n",
              "       'StoreRegistrationAndConfigurationAc', 'TransferCargoAction', None,\n",
              "       'UpdateHistoricalFlightLegInfoAction', 'UpdateFuelDataAction',\n",
              "       'UpdateEstimatesAction', 'UpdateCrewDataAction',\n",
              "       'UpdateFlightAction', 'UpdateLoadTableAction',\n",
              "       'UpdateSupplementaryInfoAction', 'UpdateTransitLoadTableAction',\n",
              "       'StorePaxDataAction'], dtype=object)"
            ]
          },
          "execution_count": 16,
          "metadata": {},
          "output_type": "execute_result"
        }
      ],
      "source": [
        "data_asien[\"action_name\"].unique()"
      ]
    },
    {
      "cell_type": "markdown",
      "metadata": {
        "id": "7AeQiVtABkbm"
      },
      "source": [
        "# 3. Process the Data"
      ]
    },
    {
      "cell_type": "code",
      "execution_count": null,
      "metadata": {
        "id": "CrtInf3NLgm3"
      },
      "outputs": [],
      "source": [
        "# List of all keys, including weights, indices, and specific aircraft parameters\n",
        "weight_keys = [\n",
        "    \"START_WI weight\",\n",
        "    \"START_WI index\",\n",
        "    \"DO_WI weight\",\n",
        "    \"DO_WI index\",\n",
        "    \"PAX_WI weight\",\n",
        "    \"PAX_WI index\",\n",
        "    \"TOTAL_DEADLOAD_WI weight\",\n",
        "    \"TOTAL_DEADLOAD_WI index\",\n",
        "    \"TOTAL_LOAD_WI\",\n",
        "    \"TOTAL_TRAFFIC_LOAD\",\n",
        "    \"FUEL_INDEX\",\n",
        "    \"AZFW\",\n",
        "    \"ATOW\",\n",
        "    \"ALAW\",\n",
        "    \"FUEL_INDEX\",\n",
        "    \"AFT_LIMIT_ZFW\",\n",
        "    \"Start Weight\",\n",
        "    \"Start Index\",\n",
        "    \"Total Weight\",\n",
        "    \"Index\",\n",
        "    \"ATXW\",\n",
        "    \"FWD_LIMIT_ZFW\"\n",
        "]\n",
        "\n",
        "# Create the regex pattern dynamically from the list of keys\n",
        "pattern = rf'({\"|\".join(map(re.escape, weight_keys))})\\s*:\\s*([0-9.]+)'\n",
        "\n",
        "# Define a function to extract the relevant details\n",
        "def extract_weight_details(data_string):\n",
        "    extracted_data = re.findall(pattern, data_string)\n",
        "    return {key.strip(): float(value) for key, value in extracted_data}\n",
        "\n",
        "# Apply the function to the 'entry_details' column\n",
        "data['extracted_data'] = data['entry_details'].astype(str).apply(extract_weight_details)\n",
        "\n",
        "# Convert extracted dictionary into separate columns\n",
        "for key in weight_keys:\n",
        "    data[key] = data['extracted_data'].apply(lambda x: x.get(key, None))"
      ]
    },
    {
      "cell_type": "code",
      "execution_count": null,
      "metadata": {
        "id": "srBSfGJ3OUZ1"
      },
      "outputs": [],
      "source": [
        "data.to_csv(\"_tripfile_extracted_weights.csv\")"
      ]
    }
  ],
  "metadata": {
    "colab": {
      "provenance": []
    },
    "kernelspec": {
      "display_name": "Python 3",
      "name": "python3"
    },
    "language_info": {
      "codemirror_mode": {
        "name": "ipython",
        "version": 3
      },
      "file_extension": ".py",
      "mimetype": "text/x-python",
      "name": "python",
      "nbconvert_exporter": "python",
      "pygments_lexer": "ipython3",
      "version": "3.10.8"
    }
  },
  "nbformat": 4,
  "nbformat_minor": 0
}
